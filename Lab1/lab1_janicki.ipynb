{
 "cells": [
  {
   "cell_type": "markdown",
   "metadata": {},
   "source": [
    "# LAB1 Wyszukiwanie wzorca w tekście - Jakub Janicki"
   ]
  },
  {
   "cell_type": "markdown",
   "metadata": {},
   "source": [
    "## 0. Zaimplementuj algorytmy wyszukiwania wzorców:"
   ]
  },
  {
   "cell_type": "markdown",
   "metadata": {},
   "source": [
    "### 0.1 Naiwny"
   ]
  },
  {
   "cell_type": "code",
   "execution_count": 9,
   "metadata": {},
   "outputs": [],
   "source": [
    "import time"
   ]
  },
  {
   "cell_type": "code",
   "execution_count": 10,
   "metadata": {},
   "outputs": [],
   "source": [
    "def naive(text, pattern):\n",
    "    result = []\n",
    "    for i in range(len(text) - len(pattern) + 1):\n",
    "        if text[i:i + len(pattern)] == pattern:\n",
    "            result.append(i)\n",
    "    return result"
   ]
  },
  {
   "cell_type": "markdown",
   "metadata": {},
   "source": [
    "### 0.2 Automat skończony"
   ]
  },
  {
   "cell_type": "code",
   "execution_count": 11,
   "metadata": {},
   "outputs": [],
   "source": [
    "def finite_automata(text, pattern, delta = None):\n",
    "    q = 0\n",
    "    result = []\n",
    "    if delta is None:\n",
    "        delta = transition_table(pattern)\n",
    "    for i, a in enumerate(text):\n",
    "        q = delta[q].get(a, 0)\n",
    "        if q == len(delta) - 1:\n",
    "            result.append(i + 1 - q)\n",
    "    return result\n",
    "\n",
    "def transition_table(pattern):\n",
    "    delta = []\n",
    "    columns = set(pattern)\n",
    "\n",
    "    for q in range(len(pattern) + 1):\n",
    "        delta.append({})\n",
    "        for a in columns:\n",
    "            k = min(len(pattern), q + 1)        \n",
    "            while not (pattern[:q] + a).endswith(pattern[:k]):\n",
    "                k = k-1\n",
    "            delta[q][a] = k\n",
    "    return delta"
   ]
  },
  {
   "cell_type": "code",
   "execution_count": 12,
   "metadata": {},
   "outputs": [
    {
     "data": {
      "text/plain": [
       "[{'b': 0, 'a': 1},\n",
       " {'b': 0, 'a': 2},\n",
       " {'b': 0, 'a': 3},\n",
       " {'b': 0, 'a': 4},\n",
       " {'b': 5, 'a': 4},\n",
       " {'b': 0, 'a': 1}]"
      ]
     },
     "execution_count": 12,
     "metadata": {},
     "output_type": "execute_result"
    }
   ],
   "source": [
    "transition_table(\"aaaab\")"
   ]
  },
  {
   "cell_type": "markdown",
   "metadata": {},
   "source": [
    "### 0.3 KMP"
   ]
  },
  {
   "cell_type": "code",
   "execution_count": 13,
   "metadata": {},
   "outputs": [],
   "source": [
    "def kmp(text, pattern, T = None):\n",
    "    result = []\n",
    "    q = 0\n",
    "    if T is None:\n",
    "        T = prefix_function(pattern)\n",
    "    for i, a in enumerate(text):\n",
    "        while q > 0 and pattern[q] != a:\n",
    "            q = T[q - 1]\n",
    "        if pattern[q] == a:\n",
    "            q = q + 1\n",
    "        if q == len(pattern):\n",
    "            result.append(i + 1 - q)\n",
    "            q = T[q - 1]\n",
    "    return result\n",
    "\n",
    "\n",
    "def prefix_function(pattern):\n",
    "    pi = [0]\n",
    "    q = 0\n",
    "    for a in pattern[1:]:\n",
    "        while q > 0 and pattern[q] != a:\n",
    "            q = pi[q - 1]\n",
    "        if a == pattern[q]:\n",
    "            q = q + 1\n",
    "        pi.append(q)\n",
    "    return pi"
   ]
  },
  {
   "cell_type": "code",
   "execution_count": 14,
   "metadata": {},
   "outputs": [
    {
     "data": {
      "text/plain": [
       "[0, 1, 2, 3, 4, 0]"
      ]
     },
     "execution_count": 14,
     "metadata": {},
     "output_type": "execute_result"
    }
   ],
   "source": [
    "prefix_function(\"aaaaab\")"
   ]
  },
  {
   "cell_type": "markdown",
   "metadata": {},
   "source": [
    "## 1. Zaimplementuj testy porównujące szybkość działania wyżej wymienionych algorytmów.\n"
   ]
  },
  {
   "cell_type": "code",
   "execution_count": 15,
   "metadata": {},
   "outputs": [],
   "source": [
    "def timer(func, text, pattern):\n",
    "    start = time.time()\n",
    "    func(text, pattern)\n",
    "    end = time.time()\n",
    "    return int(round((end - start)*(10**6),0))\n",
    "\n",
    "\n",
    "def time_comparator(text, pattern):\n",
    "    if not finite_automata(text, pattern) == naive(text, pattern) == kmp(text, pattern):\n",
    "        result = False\n",
    "    else:\n",
    "        result = [{\"Naive      \": timer(naive, text, pattern)},\n",
    "                  {\"Automata   \": timer(finite_automata, text, pattern)},\n",
    "                  {\"KMP        \": timer(kmp, text, pattern)}]\n",
    "\n",
    "    print(*result, sep=\"\\n\")"
   ]
  },
  {
   "cell_type": "markdown",
   "metadata": {},
   "source": [
    "## 2. Znajdź wszystkie wystąpienia wzorca \"art\" w załączonej ustawie, za pomocą każdego algorytmu."
   ]
  },
  {
   "cell_type": "code",
   "execution_count": 16,
   "metadata": {
    "scrolled": true
   },
   "outputs": [
    {
     "name": "stdout",
     "output_type": "stream",
     "text": [
      "Znaleziono 273 powtórzeń\n",
      "[1156, 1505, 4692, 4734, 4879, 5082, 5148, 5949, 6039, 7266, 7511, 7781, 8044, 8299, 9104, 9959, 10022, 10224, 11122, 11207, 11618, 13194, 15284, 15358, 16092, 16261, 16406, 16547, 16616, 16840, 16856, 23637, 24061, 24152, 24586, 24683, 24780, 24931, 25530, 25689, 27001, 27288, 27479, 27542, 27592, 27857, 28373, 28558, 28766, 30964, 31021, 31096, 31362, 31811, 32609, 32968, 33053, 33268, 33595, 34651, 34737, 35511, 36155, 37143, 37543, 38451, 38595, 39056, 39210, 39436, 39568, 39980, 41152, 41829, 42028, 42198, 42371, 42504, 42718, 42896, 42941, 43447, 43555, 43787, 44590, 44653, 44953, 45010, 45293, 45401, 47319, 47422, 48785, 48820, 48906, 49052, 49259, 49316, 49488, 49559, 49915, 49979, 50102, 50160, 50702, 51050, 51179, 51966, 52071, 52272, 52552, 53008, 53032, 53211, 53788, 53931, 54078, 54137, 54770, 55075, 55279, 55465, 55807, 55991, 56827, 56911, 57164, 57549, 57800, 57932, 57989, 58280, 58378, 58874, 58966, 59395, 59523, 59949, 60296, 60549, 60794, 61262, 61770, 62463, 62610, 62663, 63504, 63698, 63789, 63869, 65075, 65114, 65176, 66024, 66330, 66982, 67056, 67578, 67695, 67720, 67852, 67926, 68226, 68854, 69046, 69172, 69249, 69604, 69697, 69794, 70109, 70512, 70664, 70698, 71561, 71705, 72106, 72314, 73115, 74253, 75346, 75470, 75486, 75493, 75717, 75803, 75871, 76247, 77030, 78047, 78558, 78872, 78936, 78970, 79091, 79270, 79341, 79410, 79448, 79582, 79822, 79884, 80848, 83234, 84578, 84828, 85834, 86793, 86819, 87093, 87174, 87359, 87399, 87640, 87707, 87947, 88033, 88073, 88136, 88391, 88665, 88940, 89047, 89316, 89325, 89341, 89361, 90167, 90218, 90572, 91682, 91795, 92916, 93366, 93426, 93561, 94603, 94808, 95981, 96120, 97285, 98770, 99825, 102953, 104141, 104723, 105767, 105973, 110186, 115010, 115163, 116109, 144052, 158607, 159478, 161581, 162788, 163969, 168897, 169074, 178453, 185631, 200530, 200628, 202696, 206794, 209181, 211819, 212319, 217444, 217891, 223168, 223252]\n"
     ]
    }
   ],
   "source": [
    "f = open(\"assets/1997_714.txt\", encoding='utf8')\n",
    "art = f.read()\n",
    "\n",
    "\n",
    "if not finite_automata(art,\"art\") == naive(art,\"art\") == kmp(art,\"art\"):\n",
    "    result = \"Roznia sie \"\n",
    "else:\n",
    "    result = kmp(art, \"art\")\n",
    "    print(\"Znaleziono \" + str(len(result)) + \" powtórzeń\" )\n",
    "    \n",
    "print(result)"
   ]
  },
  {
   "cell_type": "markdown",
   "metadata": {},
   "source": [
    "## 3. Porównaj szybkość działania algorytmów dla problemu z p. 2."
   ]
  },
  {
   "cell_type": "code",
   "execution_count": 17,
   "metadata": {},
   "outputs": [
    {
     "name": "stdout",
     "output_type": "stream",
     "text": [
      "{'Naive      ': 94908}\n",
      "{'Automata   ': 107714}\n",
      "{'KMP        ': 85801}\n"
     ]
    }
   ],
   "source": [
    "time_comparator(art,\"art\")"
   ]
  },
  {
   "cell_type": "markdown",
   "metadata": {},
   "source": [
    "## 4.Zaproponuj tekst oraz wzorzec, dla którego zmierzony czas działania algorytmów (uwzględniający tylko dopasowanie, bez pre-processingu) automatu skończonego oraz KMP będzie co najmniej 5-krotnie krótszy niż dla algorytmu naiwnego."
   ]
  },
  {
   "cell_type": "code",
   "execution_count": 18,
   "metadata": {},
   "outputs": [
    {
     "name": "stdout",
     "output_type": "stream",
     "text": [
      "{'Naive      ': 8405430}\n",
      "{'Automata   ': 439114}\n",
      "{'KMP        ': 1006901}\n"
     ]
    }
   ],
   "source": [
    "pattern = 'a'*100000\n",
    "text = ('a'*99999 + 'b')*10\n",
    "\n",
    "prefixTable = prefix_function(pattern)\n",
    "transitionTable = transition_table(pattern)\n",
    "\n",
    "def timer2(func,text,pattern, table):\n",
    "    start = time.time()\n",
    "    func(text, pattern, table)\n",
    "    end = time.time()\n",
    "    return int(round((end - start)*(10**6),0))\n",
    "\n",
    "result = [{\"Naive      \": timer(naive, text, pattern)},\n",
    "          {\"Automata   \": timer2(finite_automata, text, pattern, transitionTable)},\n",
    "          {\"KMP        \": timer2(kmp, text, pattern, prefixTable)}]\n",
    "\n",
    "print(*result, sep=\"\\n\")"
   ]
  },
  {
   "cell_type": "markdown",
   "metadata": {},
   "source": [
    "## 5. Zaproponuj wzorzec, dla którego zmierzony czas obliczenia tablicy przejścia automatu skończonego będzie co najmniej 5-krotnie dłuższy, niż czas potrzebny na utworzenie funkcji przejścia w algorytmie KMP."
   ]
  },
  {
   "cell_type": "code",
   "execution_count": 19,
   "metadata": {},
   "outputs": [
    {
     "name": "stdout",
     "output_type": "stream",
     "text": [
      "{'transition_table': 2993}\n",
      "{'prefix_function ': 0}\n"
     ]
    }
   ],
   "source": [
    "import string\n",
    "pattern2 = \"string.ascii_lowercase\"\n",
    "def timer3(func, pattern):\n",
    "    start = time.time()\n",
    "    func(pattern)\n",
    "    end = time.time()\n",
    "    return int(round((end - start)*(10**6),0))\n",
    "\n",
    "\n",
    "result = [{\"transition_table\" : timer3(transition_table, pattern2)}, \n",
    "          {\"prefix_function \" : timer3(prefix_function, pattern2)}]\n",
    "\n",
    "print(*result, sep=\"\\n\")"
   ]
  },
  {
   "cell_type": "code",
   "execution_count": null,
   "metadata": {},
   "outputs": [],
   "source": []
  },
  {
   "cell_type": "code",
   "execution_count": null,
   "metadata": {},
   "outputs": [],
   "source": []
  },
  {
   "cell_type": "code",
   "execution_count": null,
   "metadata": {},
   "outputs": [],
   "source": []
  },
  {
   "cell_type": "code",
   "execution_count": null,
   "metadata": {},
   "outputs": [],
   "source": []
  },
  {
   "cell_type": "code",
   "execution_count": null,
   "metadata": {},
   "outputs": [],
   "source": []
  },
  {
   "cell_type": "code",
   "execution_count": null,
   "metadata": {},
   "outputs": [],
   "source": []
  }
 ],
 "metadata": {
  "kernelspec": {
   "display_name": "Python 3",
   "language": "python",
   "name": "python3"
  },
  "language_info": {
   "codemirror_mode": {
    "name": "ipython",
    "version": 3
   },
   "file_extension": ".py",
   "mimetype": "text/x-python",
   "name": "python",
   "nbconvert_exporter": "python",
   "pygments_lexer": "ipython3",
   "version": "3.8.3"
  }
 },
 "nbformat": 4,
 "nbformat_minor": 4
}