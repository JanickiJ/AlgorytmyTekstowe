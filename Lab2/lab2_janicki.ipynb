{
 "cells": [
  {
   "cell_type": "markdown",
   "metadata": {},
   "source": [
    "# Lab 2 trie oraz drzewo sufiksów - Jakub Janicki"
   ]
  },
  {
   "cell_type": "code",
   "execution_count": 1,
   "metadata": {},
   "outputs": [],
   "source": [
    "import tabulate\n",
    "import time\n",
    "\n",
    "txt1 = \"bbbd$\"\n",
    "txt2 = \"aabbabd$\"\n",
    "txt3 = \"ababcd$\"\n",
    "txt4 = \"abcbccd$\"\n",
    "f = open(\"assets/1997_714_head.txt\", encoding='utf8')\n",
    "txt5 = f.read()"
   ]
  },
  {
   "cell_type": "markdown",
   "metadata": {},
   "source": [
    "### Trie"
   ]
  },
  {
   "cell_type": "code",
   "execution_count": 2,
   "metadata": {},
   "outputs": [],
   "source": [
    "class Leaf:\n",
    "    def __init__(self, char):\n",
    "        self.char = char\n",
    "        self.kids = dict()\n",
    "\n",
    "    def add_kid(self, char):\n",
    "        kid = Leaf(char)\n",
    "        self.kids[char] = kid\n",
    "        return kid\n",
    "\n",
    "    def have_kid(self, char):\n",
    "        return char in self.kids\n",
    "\n",
    "    def find_kid(self, char):\n",
    "        return self.kids[char]\n",
    "\n",
    "    def print(self):\n",
    "        for char in self.kids.keys():\n",
    "            print(char)\n",
    "            self.kids[char].print()\n",
    "\n",
    "\n",
    "class Trie:\n",
    "    def __init__(self, pattern):\n",
    "        self.root = Leaf(\"root\")\n",
    "        self.__add__(pattern)\n",
    "\n",
    "    def print(self):\n",
    "        self.root.print()\n",
    "\n",
    "    def __add__(self, pattern):\n",
    "        for i in range(len(pattern)):\n",
    "            suffix = pattern[i:]\n",
    "            leaf = self.root\n",
    "            for char in suffix:\n",
    "                if not leaf.have_kid(char):\n",
    "                    leaf = leaf.add_kid(char)\n",
    "                else:\n",
    "                    leaf = leaf.kids.get(char)\n",
    "\n",
    "    def __contains__(self, pattern):\n",
    "        leaf = self.root\n",
    "        for char in pattern:\n",
    "            if char in leaf.kids:\n",
    "                leaf = leaf.kids.get(char)\n",
    "            else:\n",
    "                return False\n",
    "        return True"
   ]
  },
  {
   "cell_type": "markdown",
   "metadata": {},
   "source": [
    "### Drzewo sufixów"
   ]
  },
  {
   "cell_type": "code",
   "execution_count": 3,
   "metadata": {},
   "outputs": [],
   "source": [
    "class LeafSuffixTree:\n",
    "    def __init__(self, string_start, string_end, end_idx=0):\n",
    "        self.string_start = string_start\n",
    "        self.string_end = string_end\n",
    "        self.children = dict()\n",
    "        self.end_idx = end_idx\n",
    "\n",
    "    def addChildren(self, string_start, string_end, end_idx=0):\n",
    "        self.children[(string_start, string_end)] = LeafSuffixTree(string_start, string_end, end_idx)\n",
    "        return self.children[string_start, string_end]\n",
    "\n",
    "    def __len__(self):\n",
    "        return self.string_end - self.string_start + 1\n",
    "\n",
    "\n",
    "class SuffixTree:\n",
    "    def __init__(self, pattern):\n",
    "        self.root = LeafSuffixTree(-1, -1)\n",
    "        self.pattern = pattern\n",
    "        self.len = len(pattern)\n",
    "\n",
    "        for i in range(len(pattern)):\n",
    "            self.__add__(i)\n",
    "\n",
    "    def __add__(self, suffix_start):\n",
    "        suffix_idx = suffix_start\n",
    "        leaf = self.root\n",
    "        while suffix_idx < self.len:\n",
    "            children = None\n",
    "            if not len(leaf.children):\n",
    "                leaf.addChildren(suffix_idx, self.len - 1)\n",
    "                return\n",
    "\n",
    "            for child_idx, child in enumerate(list(leaf.children.values())):\n",
    "                if self.pattern[child.string_start] == self.pattern[suffix_idx]:\n",
    "                    children = child\n",
    "                    break\n",
    "                if child_idx == len(leaf.children) - 1:\n",
    "                    leaf.addChildren(suffix_idx, self.len - 1)\n",
    "                    return\n",
    "\n",
    "            i = 0\n",
    "            between = children\n",
    "            while i < len(children):\n",
    "\n",
    "                if self.pattern[children.string_start + i] != self.pattern[suffix_idx + i]:\n",
    "                    leaf.children.pop((children.string_start, children.string_end))\n",
    "                    between = leaf.addChildren(children.string_start, children.string_start + i - 1)\n",
    "                    children.string_start = children.string_start + i\n",
    "                    between.children[(children.string_start, children.string_end)] = children\n",
    "                    break\n",
    "                i += 1\n",
    "            suffix_idx += i\n",
    "            leaf = between\n",
    "\n",
    "    def __contains__(self, pattern):\n",
    "        leaf = self.root\n",
    "        i = 0\n",
    "        flag = True\n",
    "        while i < len(pattern) and flag:\n",
    "            flag = False\n",
    "            for child in leaf.children.values():\n",
    "                if self.pattern[child.string_start] == pattern[i]:\n",
    "                    flag = True\n",
    "                    if self.pattern[child.string_start:child.string_end+1] == pattern[i:i + len(child)]:\n",
    "                        i += len(child)\n",
    "                        leaf = child\n",
    "                        break\n",
    "                    else:\n",
    "                        return False\n",
    "        return flag\n",
    "\n",
    "    def print(self, leaf):\n",
    "        if leaf.end_idx:\n",
    "            return\n",
    "        for l in leaf.children.values():\n",
    "            print(self.pattern[l.string_start: l.string_end + 1])\n",
    "            self.print(l)\n",
    "        print(\"-\")"
   ]
  },
  {
   "cell_type": "code",
   "execution_count": 4,
   "metadata": {},
   "outputs": [
    {
     "name": "stdout",
     "output_type": "stream",
     "text": [
      "a\n",
      "abbabd\n",
      "-\n",
      "b\n",
      "babd\n",
      "-\n",
      "d\n",
      "-\n",
      "-\n",
      "-\n",
      "b\n",
      "babd\n",
      "-\n",
      "abd\n",
      "-\n",
      "d\n",
      "-\n",
      "-\n",
      "d\n",
      "-\n",
      "-\n"
     ]
    }
   ],
   "source": [
    "s=SuffixTree(\"aabbabd\")\n",
    "s.print(s.root)"
   ]
  },
  {
   "cell_type": "code",
   "execution_count": 5,
   "metadata": {},
   "outputs": [],
   "source": [
    "def is_correct(structure, txt):\n",
    "    for i in range(len(txt)):\n",
    "        if not txt[i:] in structure:\n",
    "            return False\n",
    "    return True            "
   ]
  },
  {
   "cell_type": "code",
   "execution_count": 6,
   "metadata": {},
   "outputs": [
    {
     "name": "stdout",
     "output_type": "stream",
     "text": [
      "Test txt1, trie structure is correct:  True\n",
      "Test txt2, trie structure is correct:  True\n",
      "Test txt3, trie structure is correct:  True\n",
      "Test txt4, trie structure is correct:  True\n",
      "Test txt5, trie structure is correct:  True\n"
     ]
    }
   ],
   "source": [
    "print(\"Test txt1, trie structure is correct: \", is_correct(Trie(txt1),txt1))\n",
    "print(\"Test txt2, trie structure is correct: \", is_correct(Trie(txt2),txt2))\n",
    "print(\"Test txt3, trie structure is correct: \", is_correct(Trie(txt3),txt3))\n",
    "print(\"Test txt4, trie structure is correct: \", is_correct(Trie(txt4),txt4))\n",
    "print(\"Test txt5, trie structure is correct: \", is_correct(Trie(txt5),txt5))"
   ]
  },
  {
   "cell_type": "code",
   "execution_count": 7,
   "metadata": {},
   "outputs": [
    {
     "name": "stdout",
     "output_type": "stream",
     "text": [
      "Test txt1, sufix tree structure is correct:  True\n",
      "Test txt2, sufix tree structure is correct:  True\n",
      "Test txt3, sufix tree structure is correct:  True\n",
      "Test txt4, sufix tree structure is correct:  True\n",
      "Test txt5, sufix tree structure is correct:  True\n"
     ]
    }
   ],
   "source": [
    "print(\"Test txt1, sufix tree structure is correct: \", is_correct(SuffixTree(txt1),txt1))\n",
    "print(\"Test txt2, sufix tree structure is correct: \", is_correct(SuffixTree(txt2),txt2))\n",
    "print(\"Test txt3, sufix tree structure is correct: \", is_correct(SuffixTree(txt3),txt3))\n",
    "print(\"Test txt4, sufix tree structure is correct: \", is_correct(SuffixTree(txt4),txt4))\n",
    "print(\"Test txt5, sufix tree structure is correct: \", is_correct(SuffixTree(txt5),txt5))"
   ]
  },
  {
   "cell_type": "code",
   "execution_count": 8,
   "metadata": {},
   "outputs": [
    {
     "name": "stdout",
     "output_type": "stream",
     "text": [
      "╒═════════════╤════════╤════════╤════════╤════════╤══════════╕\n",
      "│ structure   │   txt1 │   txt2 │   txt3 │   txt4 │     txt5 │\n",
      "╞═════════════╪════════╪════════╪════════╪════════╪══════════╡\n",
      "│ trie        │    997 │      0 │      0 │      0 │ 10240187 │\n",
      "├─────────────┼────────┼────────┼────────┼────────┼──────────┤\n",
      "│ suffix tree │      0 │      0 │      0 │      0 │   126830 │\n",
      "╘═════════════╧════════╧════════╧════════╧════════╧══════════╛\n"
     ]
    }
   ],
   "source": [
    "def timer(func, text):\n",
    "    start = time.time()\n",
    "    structure = func(text)\n",
    "    end = time.time()\n",
    "    return int(round((end - start)*(10**6),0))\n",
    "\n",
    "\n",
    "def time_comparator():\n",
    "    table = [[\"trie\",timer(Trie,txt1),timer(Trie,txt2),timer(Trie,txt3),timer(Trie,txt4),timer(Trie,txt5)]]\n",
    "    table.append([\"suffix tree\", timer(SuffixTree,txt1),timer(SuffixTree,txt2),timer(SuffixTree,txt3),timer(SuffixTree,txt4),timer(SuffixTree,txt5)])\n",
    "    print(tabulate.tabulate(table,headers=[\"structure\", \"txt1\",\"txt2\",\"txt3\",\"txt4\",\"txt5\"], tablefmt=\"fancy_grid\"))\n",
    "\n",
    "\n",
    "time_comparator()"
   ]
  },
  {
   "cell_type": "code",
   "execution_count": 9,
   "metadata": {},
   "outputs": [
    {
     "name": "stdout",
     "output_type": "stream",
     "text": [
      "╒═════════════╤═════════╕\n",
      "│ structure   │    txt5 │\n",
      "╞═════════════╪═════════╡\n",
      "│ trie        │ 1344403 │\n",
      "├─────────────┼─────────┤\n",
      "│ suffix tree │  153589 │\n",
      "╘═════════════╧═════════╛\n"
     ]
    }
   ],
   "source": [
    "def timer2(func, text):\n",
    "    structure = func(text)\n",
    "    start = time.time()\n",
    "    for i in range(len(text)):\n",
    "        text[i:] in structure\n",
    "    end = time.time()\n",
    "    return int(round((end - start)*(10**6),0))\n",
    "\n",
    "\n",
    "def time_comparator():\n",
    "    table = [[\"trie\",timer2(Trie,txt5)]]\n",
    "    table.append([\"suffix tree\", timer2(SuffixTree,txt5)])\n",
    "    print(tabulate.tabulate(table,headers=[\"structure\",\"txt5\"], tablefmt=\"fancy_grid\"))\n",
    "\n",
    "\n",
    "time_comparator()"
   ]
  },
  {
   "cell_type": "code",
   "execution_count": null,
   "metadata": {},
   "outputs": [],
   "source": []
  },
  {
   "cell_type": "code",
   "execution_count": null,
   "metadata": {},
   "outputs": [],
   "source": []
  }
 ],
 "metadata": {
  "kernelspec": {
   "display_name": "Python 3",
   "language": "python",
   "name": "python3"
  },
  "language_info": {
   "codemirror_mode": {
    "name": "ipython",
    "version": 3
   },
   "file_extension": ".py",
   "mimetype": "text/x-python",
   "name": "python",
   "nbconvert_exporter": "python",
   "pygments_lexer": "ipython3",
   "version": "3.8.3"
  }
 },
 "nbformat": 4,
 "nbformat_minor": 4
}