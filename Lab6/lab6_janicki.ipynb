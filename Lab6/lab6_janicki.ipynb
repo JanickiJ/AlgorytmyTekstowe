{
 "cells": [
  {
   "cell_type": "markdown",
   "metadata": {},
   "source": [
    "## Algorytmy tekstowe"
   ]
  },
  {
   "cell_type": "markdown",
   "metadata": {},
   "source": [
    "## Lab 6 - Wyszukiwanie wzorca 2d"
   ]
  },
  {
   "cell_type": "markdown",
   "metadata": {},
   "source": [
    "### Jakub Janicki"
   ]
  },
  {
   "cell_type": "code",
   "execution_count": 20,
   "metadata": {},
   "outputs": [],
   "source": [
    "import time\n",
    "from collections import defaultdict\n",
    "from PIL import Image\n",
    "import imageio\n",
    "import numpy as np"
   ]
  },
  {
   "cell_type": "code",
   "execution_count": 21,
   "metadata": {},
   "outputs": [],
   "source": [
    "class Node:\n",
    "    def __init__(self):\n",
    "        super().__init__()\n",
    "        self.state = 0\n",
    "        self.fail = None\n",
    "        self.transition = dict()\n",
    "        self.output = set()\n",
    "\n",
    "\n",
    "class AhoCorasick:\n",
    "    def __init__(self, pattern):\n",
    "        self.nodes = []\n",
    "        self.make_output_transition(pattern)\n",
    "        self.make_fail()\n",
    "\n",
    "    def make_output_transition(self, patterns):\n",
    "        self.nodes.append(Node())\n",
    "\n",
    "        for pattern in patterns:\n",
    "            current = 0\n",
    "            for i, letter in enumerate(pattern):\n",
    "                if letter in self.nodes[current].transition:\n",
    "                    current = self.nodes[current].transition[pattern[i]]\n",
    "                else:\n",
    "                    self.nodes.append(Node())\n",
    "                    self.nodes[current].transition[letter] = len(self.nodes) - 1\n",
    "                    current = len(self.nodes) - 1\n",
    "                if i == len(pattern) - 1:\n",
    "                    self.nodes[current].output.add(tuple(pattern))\n",
    "\n",
    "    def make_fail(self):\n",
    "        q = []\n",
    "        self.nodes[0].fail = 0\n",
    "\n",
    "        for key, val in self.nodes[0].transition.items():\n",
    "            if val != -1:\n",
    "                q.append(val)\n",
    "                self.nodes[val].fail = 0\n",
    "\n",
    "        while q:\n",
    "            curr = q.pop(0)\n",
    "            for key, val in self.nodes[curr].transition.items():\n",
    "                q.append(val)\n",
    "                fail = self.nodes[curr].fail\n",
    "                while key not in self.nodes[fail].transition and fail != 0:\n",
    "                    fail = self.nodes[fail].fail\n",
    "                if key in self.nodes[fail].transition:\n",
    "                    self.nodes[val].fail = self.nodes[fail].transition[key]\n",
    "                else:\n",
    "                    self.nodes[val].fail = fail\n",
    "                self.nodes[val].output.update(self.nodes[self.nodes[val].fail].output)"
   ]
  },
  {
   "cell_type": "code",
   "execution_count": 22,
   "metadata": {},
   "outputs": [],
   "source": [
    "def prepare_text(text):\n",
    "    max_len = max([len(l) for l in text])\n",
    "    matrix = [[None for _ in range(max_len)] for _ in range(len(text))]\n",
    "    for i, line in enumerate(text):\n",
    "        for j, letter in enumerate(line):\n",
    "            matrix[i][j] = letter\n",
    "    return matrix\n",
    "\n",
    "def prepare_pattern(pattern):\n",
    "    pattern = prepare_text(pattern)\n",
    "    pattern_columns = [[None for _ in range(len(pattern))] for _ in range(len(pattern[0]))]\n",
    "    for i, line in enumerate(pattern):\n",
    "        for j, letter in enumerate(line):\n",
    "            pattern_columns[j][i] = letter\n",
    "    return pattern_columns"
   ]
  },
  {
   "cell_type": "code",
   "execution_count": 23,
   "metadata": {},
   "outputs": [],
   "source": [
    "def search_2d(text, pattern, return_time = False):\n",
    "    text = prepare_text(text)\n",
    "    pattern = prepare_pattern(pattern)\n",
    "    n = len(text)\n",
    "    m = len(text[0])\n",
    "    start_t = time.time()\n",
    "\n",
    "    automata = AhoCorasick(pattern)\n",
    "\n",
    "    prep_t = time.time() - start_t\n",
    "    start_t = time.time()\n",
    "    state_matrix = [[0 for _ in range(m)] for _ in range(n)]\n",
    "    for j in range(m):\n",
    "        for i in range(n):\n",
    "            if i == 0:\n",
    "                prev =0\n",
    "            else:\n",
    "                prev = state_matrix[i-1][j]\n",
    "            if text[i][j] in automata.nodes[prev].transition:\n",
    "                state_matrix[i][j] = automata.nodes[state_matrix[i - 1][j]].transition[text[i][j]]\n",
    "            else:\n",
    "                while prev != 0 and text[i][j] not in automata.nodes[prev].transition:\n",
    "                    prev = automata.nodes[prev].fail\n",
    "                if text[i][j] in automata.nodes[prev].transition:\n",
    "                    state_matrix[i][j] = automata.nodes[prev].transition[text[i][j]]\n",
    "                else:\n",
    "                    state_matrix[i][j] = prev\n",
    "\n",
    "\n",
    "    seq = [0 for _ in range(len(pattern))]\n",
    "    for i in range(len(pattern)):\n",
    "        for l in pattern[i]:\n",
    "            seq[i] = automata.nodes[seq[i]].transition[l]\n",
    "\n",
    "    result = []\n",
    "    for i in range(n):\n",
    "        for j in range(m - len(pattern)+1):\n",
    "            if state_matrix[i][j:j + len(pattern)] == seq:\n",
    "                result.append((i - len(pattern) + 1, j))\n",
    "    find_t = time.time() - start_t\n",
    "\n",
    "    if return_time: return result, (prep_t, find_t)\n",
    "    return result\n"
   ]
  },
  {
   "cell_type": "code",
   "execution_count": 24,
   "metadata": {},
   "outputs": [
    {
     "data": {
      "text/plain": [
       "[(0, 0), (1, 2)]"
      ]
     },
     "execution_count": 24,
     "metadata": {},
     "output_type": "execute_result"
    }
   ],
   "source": [
    "text = [\"ccdas\",\n",
    "        \"ccccd\",\n",
    "        \"cdccc\",\n",
    "        \"dacdc\"]\n",
    "\n",
    "pattern = [\"ccd\", \"ccc\", \"cdc\"]\n",
    "\n",
    "search_2d(text, pattern)"
   ]
  },
  {
   "cell_type": "code",
   "execution_count": 25,
   "metadata": {},
   "outputs": [],
   "source": [
    "def image_to_matrix(image):\n",
    "    pixel_arr = image.load()\n",
    "    pixels = []\n",
    "    for i in range(image.height):\n",
    "        row = []\n",
    "        for j in range(image.width):\n",
    "            row.append(pixel_arr[j, i][0])\n",
    "        pixels.append(row)\n",
    "    return pixels"
   ]
  },
  {
   "cell_type": "code",
   "execution_count": 29,
   "metadata": {},
   "outputs": [],
   "source": [
    "text_path = 'assets/haystack.txt'\n",
    "text_img_path = 'assets/haystack.png'\n",
    "letters_paths = ['letters/a.png', 'letters/s.png', 'letters/m.png', 'letters/o.png']\n",
    "pattern_path = 'assets/pattern.png'\n",
    "\n",
    "with open(text_path, 'r') as file:\n",
    "    lines = file.readlines()"
   ]
  },
  {
   "cell_type": "markdown",
   "metadata": {},
   "source": [
    "## Zadanie 2"
   ]
  },
  {
   "cell_type": "code",
   "execution_count": 30,
   "metadata": {},
   "outputs": [
    {
     "name": "stdout",
     "output_type": "stream",
     "text": [
      "Letter: a-a appeared 28 times \n",
      " [(1, 82), (4, 30), (6, 60), (7, 63), (21, 6), (29, 69), (32, 50), (32, 73), (34, 66), (38, 4), (53, 12), (54, 12), (54, 48), (57, 11), (58, 36), (59, 36), (60, 24), (65, 2), (65, 14), (65, 22), (66, 35), (70, 35), (77, 21), (77, 74), (78, 42), (78, 61), (79, 59), (80, 37)]\n",
      "Letter: b-b appeared 0 times \n",
      " []\n",
      "Letter: c-c appeared 6 times \n",
      " [(4, 54), (11, 45), (14, 10), (42, 0), (69, 0), (83, 41)]\n",
      "Letter: d-d appeared 1 times \n",
      " [(38, 19)]\n",
      "Letter: e-e appeared 48 times \n",
      " [(1, 63), (2, 8), (5, 77), (8, 65), (11, 1), (11, 64), (15, 2), (16, 43), (18, 6), (19, 27), (21, 10), (22, 61), (23, 53), (25, 3), (25, 65), (29, 67), (29, 73), (30, 38), (30, 43), (38, 48), (41, 11), (41, 26), (42, 57), (43, 36), (43, 48), (47, 52), (48, 50), (52, 31), (58, 54), (59, 50), (59, 54), (60, 73), (64, 66), (66, 69), (67, 72), (68, 17), (69, 46), (70, 15), (71, 49), (72, 38), (73, 23), (74, 27), (77, 6), (78, 6), (79, 65), (81, 6), (82, 14), (83, 47)]\n",
      "Letter: f-f appeared 2 times \n",
      " [(31, 59), (78, 1)]\n",
      "Letter: g-g appeared 0 times \n",
      " []\n",
      "Letter: h-h appeared 4 times \n",
      " [(28, 2), (38, 2), (57, 31), (74, 12)]\n",
      "Letter: i-i appeared 13 times \n",
      " [(2, 5), (9, 37), (10, 60), (20, 55), (32, 0), (32, 31), (45, 33), (53, 69), (56, 17), (61, 45), (69, 51), (74, 13), (78, 13)]\n",
      "Letter: j-j appeared 0 times \n",
      " []\n",
      "Letter: k-k appeared 0 times \n",
      " []\n",
      "Letter: l-l appeared 5 times \n",
      " [(29, 72), (34, 45), (42, 77), (47, 61), (54, 45)]\n",
      "Letter: m-m appeared 5 times \n",
      " [(17, 5), (29, 70), (35, 40), (35, 60), (45, 0)]\n",
      "Letter: n-n appeared 15 times \n",
      " [(1, 83), (2, 9), (15, 54), (20, 37), (21, 56), (22, 62), (32, 1), (36, 18), (52, 32), (55, 33), (57, 13), (65, 29), (68, 35), (68, 40), (68, 57)]\n",
      "Letter: o-o appeared 21 times \n",
      " [(5, 75), (6, 66), (7, 38), (8, 38), (11, 27), (16, 60), (28, 17), (29, 17), (31, 58), (33, 34), (34, 11), (34, 26), (42, 1), (45, 55), (51, 2), (53, 8), (54, 1), (59, 45), (72, 42), (80, 10), (82, 52)]\n",
      "Letter: p-p appeared 2 times \n",
      " [(29, 71), (42, 18)]\n",
      "Letter: q-q appeared 0 times \n",
      " []\n",
      "Letter: r-r appeared 21 times \n",
      " [(2, 4), (7, 39), (7, 50), (8, 13), (16, 18), (18, 14), (20, 54), (21, 54), (29, 65), (32, 70), (34, 10), (34, 37), (44, 25), (47, 42), (48, 37), (53, 5), (56, 40), (61, 30), (63, 39), (68, 29), (70, 22)]\n",
      "Letter: s-s appeared 19 times \n",
      " [(4, 57), (4, 63), (5, 49), (9, 21), (10, 58), (29, 45), (30, 56), (31, 56), (38, 34), (41, 63), (46, 34), (47, 44), (50, 14), (53, 53), (55, 0), (68, 37), (71, 41), (72, 24), (80, 24)]\n",
      "Letter: t-t appeared 41 times \n",
      " [(1, 7), (2, 6), (2, 7), (4, 37), (5, 14), (5, 23), (8, 29), (9, 75), (14, 55), (16, 12), (17, 3), (20, 33), (23, 8), (24, 4), (25, 4), (28, 31), (29, 23), (29, 52), (31, 16), (36, 10), (38, 0), (42, 45), (42, 73), (47, 24), (51, 0), (52, 33), (53, 61), (55, 11), (56, 54), (59, 49), (59, 78), (60, 33), (60, 75), (62, 56), (68, 71), (70, 5), (72, 3), (73, 3), (73, 10), (73, 59), (78, 22)]\n",
      "Letter: u-u appeared 0 times \n",
      " []\n",
      "Letter: v-v appeared 0 times \n",
      " []\n",
      "Letter: w-w appeared 2 times \n",
      " [(2, 3), (22, 70)]\n",
      "Letter: x-x appeared 1 times \n",
      " [(29, 68)]\n",
      "Letter: y-y appeared 1 times \n",
      " [(45, 5)]\n"
     ]
    }
   ],
   "source": [
    "for char in [chr(i) for i in range(ord('a'), ord('z'))]:\n",
    "    print(f\"Letter: {char}-{char} appeared {len(search_2d(lines, [char, char]))} times \\n {search_2d(lines, [char, char])}\")"
   ]
  },
  {
   "cell_type": "code",
   "execution_count": 31,
   "metadata": {},
   "outputs": [
    {
     "name": "stdout",
     "output_type": "stream",
     "text": [
      "Letter: A-A appeared 0 times \n",
      " []\n",
      "Letter: B-B appeared 0 times \n",
      " []\n",
      "Letter: C-C appeared 0 times \n",
      " []\n",
      "Letter: D-D appeared 0 times \n",
      " []\n",
      "Letter: E-E appeared 0 times \n",
      " []\n",
      "Letter: F-F appeared 0 times \n",
      " []\n",
      "Letter: G-G appeared 0 times \n",
      " []\n",
      "Letter: H-H appeared 0 times \n",
      " []\n",
      "Letter: I-I appeared 0 times \n",
      " []\n",
      "Letter: J-J appeared 0 times \n",
      " []\n",
      "Letter: K-K appeared 0 times \n",
      " []\n",
      "Letter: L-L appeared 0 times \n",
      " []\n",
      "Letter: M-M appeared 0 times \n",
      " []\n",
      "Letter: N-N appeared 0 times \n",
      " []\n",
      "Letter: O-O appeared 0 times \n",
      " []\n",
      "Letter: P-P appeared 0 times \n",
      " []\n",
      "Letter: Q-Q appeared 0 times \n",
      " []\n",
      "Letter: R-R appeared 0 times \n",
      " []\n",
      "Letter: S-S appeared 0 times \n",
      " []\n",
      "Letter: T-T appeared 0 times \n",
      " []\n",
      "Letter: U-U appeared 0 times \n",
      " []\n",
      "Letter: V-V appeared 0 times \n",
      " []\n",
      "Letter: W-W appeared 0 times \n",
      " []\n",
      "Letter: X-X appeared 0 times \n",
      " []\n",
      "Letter: Y-Y appeared 0 times \n",
      " []\n"
     ]
    }
   ],
   "source": [
    "for char in [chr(i) for i in range(ord('A'), ord('Z'))]:\n",
    "    print(f\"Letter: {char}-{char} appeared {len(search_2d(lines, [char, char]))} times \\n {search_2d(lines, [char, char])}\")"
   ]
  },
  {
   "cell_type": "markdown",
   "metadata": {},
   "source": [
    "## Zadanie 3 "
   ]
  },
  {
   "cell_type": "code",
   "execution_count": 32,
   "metadata": {},
   "outputs": [
    {
     "name": "stdout",
     "output_type": "stream",
     "text": [
      "[ th ] appeared 0 times \n",
      " []\n",
      "[ t h ] appeared 1 times \n",
      " [(36, 0)]\n"
     ]
    }
   ],
   "source": [
    "print(f\"[ th ] appeared {len(search_2d(lines, ['th', 'th']))} times \\n {search_2d(lines, ['th', 'th'])}\")\n",
    "print(f\"[ t h ] appeared {len(search_2d(lines, ['t h', 't h']))} times \\n {search_2d(lines, ['t h', 't h'])}\")"
   ]
  },
  {
   "cell_type": "markdown",
   "metadata": {},
   "source": [
    "## Zadanie 4"
   ]
  },
  {
   "cell_type": "code",
   "execution_count": 33,
   "metadata": {},
   "outputs": [],
   "source": [
    "def find_letter(letter_string, text_img, l_img):\n",
    "    img = image_to_matrix(text_img)\n",
    "    letter = image_to_matrix(l_img)\n",
    "    print(f\"Letter: {letter_string} appeared {len(search_2d(img, letter))} times \\n {search_2d(img, letter)}\\n\")"
   ]
  },
  {
   "cell_type": "code",
   "execution_count": 34,
   "metadata": {
    "scrolled": false
   },
   "outputs": [
    {
     "name": "stdout",
     "output_type": "stream",
     "text": [
      "Letter: a appeared 356 times \n",
      " [(37, 206), (37, 262), (37, 322), (37, 486), (37, 622), (37, 750), (59, 302), (59, 332), (59, 390), (59, 641), (59, 699), (81, 176), (81, 202), (81, 398), (81, 564), (81, 588), (103, 55), (103, 104), (103, 271), (125, 273), (125, 327), (125, 618), (147, 125), (147, 155), (147, 246), (147, 353), (147, 548), (147, 631), (169, 55), (169, 89), (169, 193), (169, 321), (169, 517), (169, 556), (169, 585), (169, 707), (191, 83), (191, 257), (191, 405), (191, 576), (191, 620), (191, 679), (213, 434), (213, 535), (235, 119), (235, 471), (235, 592), (257, 93), (257, 445), (279, 62), (279, 125), (279, 268), (279, 459), (279, 562), (301, 36), (323, 87), (323, 175), (323, 434), (323, 494), (323, 572), (345, 97), (345, 221), (345, 272), (345, 408), (345, 576), (367, 25), (367, 247), (367, 273), (367, 603), (367, 656), (389, 119), (389, 227), (389, 369), (389, 704), (411, 25), (433, 247), (433, 282), (433, 511), (433, 593), (433, 654), (455, 83), (455, 127), (455, 244), (455, 366), (455, 448), (477, 25), (477, 81), (477, 166), (477, 200), (477, 308), (477, 564), (477, 712), (499, 77), (499, 159), (499, 444), (499, 694), (499, 743), (521, 64), (521, 147), (521, 196), (521, 224), (521, 451), (543, 54), (543, 126), (543, 258), (543, 358), (543, 528), (543, 696), (565, 25), (565, 163), (565, 275), (565, 446), (565, 495), (565, 629), (587, 158), (587, 258), (587, 415), (587, 512), (587, 552), (587, 749), (631, 96), (631, 264), (631, 407), (631, 568), (653, 55), (653, 217), (653, 296), (653, 418), (653, 547), (653, 654), (675, 25), (675, 89), (675, 380), (675, 641), (697, 92), (697, 469), (697, 640), (697, 673), (719, 260), (719, 462), (719, 643), (741, 194), (741, 462), (741, 536), (741, 667), (763, 332), (763, 579), (763, 672), (763, 732), (785, 30), (785, 74), (785, 459), (785, 503), (785, 551), (785, 613), (785, 646), (807, 110), (807, 216), (807, 629), (829, 280), (829, 322), (829, 406), (829, 600), (851, 55), (851, 242), (873, 55), (873, 368), (873, 640), (895, 105), (895, 225), (917, 228), (939, 82), (939, 473), (939, 503), (961, 168), (961, 219), (961, 389), (961, 694), (983, 568), (983, 610), (1005, 43), (1005, 420), (1005, 667), (1027, 166), (1027, 355), (1027, 433), (1049, 36), (1049, 170), (1049, 200), (1049, 439), (1049, 535), (1049, 584), (1071, 294), (1071, 324), (1071, 554), (1071, 671), (1093, 99), (1093, 469), (1115, 435), (1115, 637), (1115, 727), (1115, 803), (1137, 79), (1137, 109), (1137, 192), (1159, 164), (1181, 49), (1181, 137), (1181, 159), (1181, 181), (1181, 225), (1181, 350), (1181, 643), (1203, 131), (1203, 291), (1203, 397), (1203, 450), (1203, 540), (1225, 147), (1225, 350), (1225, 410), (1225, 443), (1225, 487), (1225, 588), (1225, 631), (1225, 661), (1225, 737), (1247, 261), (1247, 302), (1247, 374), (1269, 77), (1269, 135), (1269, 212), (1269, 565), (1291, 119), (1291, 176), (1291, 354), (1291, 413), (1291, 441), (1291, 603), (1291, 663), (1313, 44), (1313, 202), (1313, 258), (1313, 328), (1313, 350), (1313, 371), (1313, 439), (1313, 698), (1335, 48), (1335, 169), (1335, 231), (1335, 330), (1335, 378), (1335, 577), (1357, 63), (1357, 149), (1357, 230), (1357, 276), (1357, 574), (1357, 640), (1379, 25), (1379, 121), (1379, 348), (1379, 567), (1379, 637), (1401, 131), (1401, 175), (1423, 25), (1423, 343), (1445, 46), (1445, 145), (1445, 229), (1445, 522), (1445, 567), (1467, 52), (1467, 152), (1467, 219), (1467, 268), (1467, 334), (1467, 487), (1467, 571), (1489, 181), (1489, 337), (1489, 487), (1511, 99), (1511, 223), (1511, 455), (1511, 499), (1511, 544), (1511, 671), (1533, 60), (1533, 362), (1555, 35), (1555, 92), (1555, 140), (1555, 290), (1555, 345), (1577, 344), (1577, 488), (1599, 178), (1599, 321), (1599, 527), (1621, 154), (1621, 337), (1621, 677), (1643, 36), (1643, 114), (1643, 291), (1643, 483), (1643, 501), (1643, 634), (1665, 79), (1665, 661), (1687, 59), (1709, 144), (1709, 166), (1709, 217), (1709, 399), (1709, 687), (1731, 190), (1731, 225), (1731, 283), (1731, 301), (1731, 342), (1731, 386), (1731, 437), (1731, 507), (1731, 558), (1731, 616), (1731, 684), (1753, 308), (1753, 389), (1753, 496), (1753, 554), (1753, 572), (1775, 25), (1775, 76), (1775, 405), (1775, 508), (1775, 560), (1797, 68), (1797, 188), (1797, 307), (1797, 365), (1797, 383), (1797, 625), (1797, 681), (1819, 238), (1819, 405), (1841, 217), (1841, 407), (1841, 497), (1863, 25), (1863, 71), (1863, 385)]\n",
      "\n",
      "Letter: s appeared 334 times \n",
      " [(39, 126), (39, 185), (39, 391), (39, 585), (39, 679), (39, 773), (61, 154), (61, 202), (61, 355), (83, 188), (83, 264), (83, 463), (83, 606), (105, 31), (105, 257), (105, 505), (105, 514), (105, 564), (105, 584), (105, 629), (127, 164), (127, 438), (127, 508), (127, 528), (127, 573), (127, 599), (127, 707), (127, 716), (149, 81), (149, 445), (149, 659), (171, 258), (171, 408), (171, 597), (171, 635), (193, 185), (193, 194), (193, 391), (193, 654), (215, 91), (215, 186), (215, 195), (215, 273), (215, 521), (215, 559), (215, 642), (237, 144), (237, 229), (237, 558), (237, 578), (237, 609), (259, 162), (259, 184), (259, 329), (259, 560), (281, 54), (281, 179), (281, 670), (325, 99), (325, 300), (325, 410), (325, 674), (347, 37), (347, 140), (347, 149), (347, 456), (347, 714), (369, 61), (369, 153), (369, 259), (369, 399), (369, 549), (391, 26), (391, 46), (391, 305), (391, 477), (391, 492), (391, 523), (391, 573), (391, 716), (413, 209), (435, 61), (435, 695), (435, 704), (457, 113), (457, 207), (457, 618), (457, 695), (457, 715), (479, 491), (479, 688), (479, 724), (501, 329), (501, 378), (523, 82), (523, 410), (523, 702), (545, 437), (567, 43), (567, 99), (567, 149), (567, 254), (567, 293), (567, 507), (567, 527), (567, 564), (589, 92), (589, 333), (633, 77), (633, 209), (633, 355), (633, 392), (633, 483), (633, 503), (633, 700), (655, 192), (655, 446), (655, 582), (677, 253), (677, 423), (677, 432), (677, 523), (699, 84), (699, 172), (699, 226), (699, 383), (699, 535), (721, 136), (721, 216), (721, 329), (721, 407), (721, 506), (721, 758), (743, 281), (765, 26), (765, 224), (765, 367), (765, 470), (765, 490), (787, 164), (787, 173), (787, 290), (787, 537), (787, 587), (809, 73), (809, 167), (831, 216), (831, 308), (831, 580), (853, 228), (853, 310), (853, 605), (875, 212), (875, 331), (875, 507), (875, 568), (875, 583), (875, 672), (919, 44), (919, 120), (919, 263), (919, 283), (919, 324), (919, 421), (919, 564), (941, 128), (941, 235), (941, 329), (941, 378), (941, 574), (963, 97), (963, 291), (985, 82), (985, 265), (985, 418), (985, 483), (985, 596), (1007, 214), (1007, 229), (1007, 367), (1007, 376), (1007, 554), (1007, 710), (1007, 719), (1029, 209), (1029, 218), (1029, 321), (1029, 341), (1029, 416), (1029, 425), (1051, 55), (1051, 82), (1051, 218), (1051, 315), (1051, 393), (1051, 482), (1051, 491), (1051, 511), (1073, 134), (1073, 195), (1073, 342), (1073, 422), (1073, 484), (1073, 634), (1095, 62), (1095, 309), (1095, 432), (1095, 607), (1117, 26), (1117, 73), (1117, 153), (1117, 174), (1117, 288), (1117, 689), (1139, 139), (1139, 240), (1183, 211), (1183, 516), (1183, 542), (1183, 622), (1205, 214), (1205, 327), (1205, 496), (1227, 26), (1227, 132), (1227, 277), (1227, 297), (1227, 521), (1227, 542), (1227, 600), (1249, 26), (1249, 46), (1249, 91), (1249, 214), (1271, 117), (1271, 198), (1271, 435), (1271, 461), (1293, 55), (1293, 399), (1315, 26), (1315, 131), (1315, 648), (1337, 359), (1337, 540), (1359, 31), (1381, 247), (1381, 279), (1381, 730), (1403, 84), (1403, 161), (1403, 603), (1403, 640), (1425, 245), (1447, 111), (1447, 131), (1447, 490), (1469, 26), (1469, 109), (1469, 175), (1469, 250), (1469, 473), (1491, 97), (1491, 117), (1491, 318), (1491, 592), (1513, 54), (1513, 121), (1513, 137), (1513, 367), (1535, 131), (1535, 212), (1535, 344), (1535, 460), (1535, 608), (1535, 688), (1557, 302), (1557, 311), (1557, 580), (1557, 728), (1579, 320), (1579, 402), (1579, 636), (1601, 243), (1601, 333), (1601, 342), (1601, 391), (1601, 406), (1601, 512), (1601, 652), (1623, 244), (1623, 253), (1623, 300), (1623, 642), (1645, 423), (1645, 519), (1667, 26), (1667, 113), (1667, 197), (1667, 228), (1667, 258), (1667, 267), (1667, 349), (1689, 71), (1689, 153), (1711, 362), (1711, 538), (1711, 558), (1711, 710), (1733, 85), (1733, 175), (1733, 405), (1733, 602), (1755, 137), (1755, 152), (1755, 198), (1777, 255), (1777, 384), (1799, 108), (1799, 259), (1799, 472), (1799, 580), (1799, 600), (1821, 213), (1843, 66), (1843, 180), (1843, 269), (1843, 336), (1843, 450), (1843, 459), (1865, 103), (1865, 272), (1865, 428), (1865, 437)]\n",
      "\n"
     ]
    },
    {
     "name": "stdout",
     "output_type": "stream",
     "text": [
      "Letter: m appeared 131 times \n",
      " [(32, 140), (32, 469), (32, 722), (98, 611), (120, 256), (120, 555), (142, 365), (142, 674), (164, 107), (164, 390), (164, 500), (186, 66), (186, 503), (186, 521), (208, 503), (230, 49), (230, 322), (230, 540), (252, 133), (252, 311), (252, 489), (274, 251), (318, 254), (318, 555), (340, 204), (340, 471), (340, 500), (340, 553), (340, 649), (362, 224), (362, 569), (384, 73), (384, 210), (384, 341), (406, 67), (428, 201), (450, 384), (472, 93), (472, 291), (472, 437), (472, 547), (494, 95), (494, 671), (516, 370), (538, 161), (538, 546), (538, 620), (560, 429), (582, 732), (648, 279), (648, 369), (648, 455), (648, 666), (670, 653), (692, 104), (714, 198), (736, 263), (736, 644), (780, 386), (780, 404), (780, 596), (802, 362), (802, 554), (802, 668), (824, 389), (846, 210), (846, 587), (846, 698), (868, 623), (890, 82), (890, 152), (912, 58), (934, 47), (934, 65), (1000, 26), (1000, 643), (1022, 26), (1022, 55), (1088, 82), (1088, 414), (1132, 56), (1176, 259), (1176, 304), (1220, 46), (1242, 73), (1264, 60), (1286, 159), (1286, 337), (1308, 102), (1308, 305), (1308, 681), (1330, 152), (1330, 422), (1374, 218), (1396, 330), (1396, 365), (1396, 439), (1396, 457), (1396, 720), (1418, 183), (1440, 212), (1440, 505), (1462, 35), (1462, 124), (1462, 554), (1484, 153), (1506, 251), (1506, 320), (1506, 638), (1528, 590), (1550, 267), (1550, 710), (1572, 201), (1594, 362), (1594, 426), (1616, 137), (1616, 499), (1616, 602), (1638, 97), (1638, 394), (1660, 62), (1704, 659), (1726, 266), (1748, 336), (1748, 537), (1770, 237), (1792, 348), (1814, 166), (1858, 361), (1858, 452), (1858, 481)]\n",
      "\n",
      "Letter: o appeared 310 times \n",
      " [(37, 67), (37, 405), (37, 509), (37, 645), (59, 25), (59, 262), (81, 133), (81, 224), (81, 354), (103, 419), (125, 350), (125, 378), (147, 25), (147, 307), (147, 470), (147, 481), (147, 602), (147, 691), (169, 144), (169, 348), (169, 422), (169, 611), (191, 106), (191, 372), (213, 331), (213, 347), (213, 461), (235, 25), (235, 66), (235, 310), (235, 406), (235, 498), (235, 617), (235, 634), (235, 673), (257, 150), (257, 394), (257, 477), (257, 666), (279, 239), (279, 527), (279, 658), (279, 702), (301, 74), (323, 349), (323, 365), (345, 80), (345, 244), (345, 328), (345, 356), (345, 488), (345, 637), (367, 69), (367, 435), (367, 498), (367, 557), (367, 679), (389, 329), (389, 555), (389, 581), (389, 645), (389, 676), (411, 123), (411, 186), (433, 38), (433, 224), (433, 328), (433, 489), (455, 51), (455, 297), (455, 569), (455, 591), (477, 143), (477, 466), (499, 280), (499, 302), (499, 785), (521, 284), (521, 510), (543, 563), (543, 608), (543, 731), (543, 781), (565, 75), (565, 213), (565, 365), (587, 296), (587, 352), (587, 398), (587, 659), (631, 141), (631, 179), (631, 223), (631, 720), (653, 169), (653, 525), (675, 60), (675, 175), (675, 235), (675, 453), (675, 566), (697, 25), (697, 192), (697, 502), (697, 513), (697, 549), (697, 611), (719, 80), (719, 124), (719, 354), (719, 428), (719, 520), (719, 696), (719, 728), (741, 221), (741, 322), (741, 485), (741, 513), (763, 249), (763, 310), (763, 381), (763, 447), (763, 504), (763, 638), (785, 267), (785, 304), (807, 133), (807, 192), (807, 531), (807, 606), (807, 656), (829, 33), (829, 95), (829, 251), (829, 550), (851, 287), (851, 715), (873, 182), (873, 391), (873, 419), (873, 484), (873, 521), (895, 169), (917, 145), (917, 206), (939, 35), (939, 209), (939, 299), (939, 549), (939, 589), (961, 35), (961, 268), (961, 316), (983, 103), (983, 378), (983, 539), (1005, 244), (1005, 502), (1005, 568), (1005, 631), (1027, 72), (1027, 239), (1027, 298), (1027, 478), (1027, 528), (1027, 691), (1027, 702), (1049, 695), (1071, 36), (1071, 47), (1071, 158), (1071, 214), (1071, 260), (1071, 615), (1071, 648), (1093, 148), (1093, 286), (1093, 522), (1093, 584), (1093, 662), (1093, 690), (1115, 560), (1115, 773), (1137, 38), (1159, 32), (1159, 43), (1159, 114), (1181, 90), (1181, 101), (1181, 373), (1181, 401), (1181, 424), (1181, 463), (1181, 664), (1203, 32), (1203, 64), (1203, 98), (1203, 473), (1225, 34), (1225, 213), (1247, 222), (1247, 472), (1247, 522), (1269, 272), (1269, 317), (1269, 335), (1269, 356), (1269, 504), (1291, 68), (1291, 96), (1291, 480), (1291, 691), (1291, 785), (1313, 422), (1313, 532), (1313, 721), (1335, 25), (1335, 208), (1335, 313), (1335, 410), (1335, 600), (1335, 628), (1357, 379), (1357, 429), (1379, 539), (1379, 626), (1401, 92), (1401, 269), (1401, 318), (1401, 382), (1401, 427), (1401, 474), (1423, 154), (1423, 258), (1423, 464), (1423, 621), (1423, 671), (1423, 699), (1445, 280), (1445, 659), (1467, 362), (1467, 373), (1467, 622), (1489, 141), (1489, 532), (1511, 381), (1533, 145), (1533, 226), (1533, 315), (1555, 68), (1555, 319), (1555, 463), (1577, 92), (1577, 120), (1577, 253), (1577, 416), (1577, 613), (1599, 35), (1599, 99), (1599, 414), (1599, 593), (1621, 25), (1621, 390), (1621, 522), (1621, 567), (1621, 655), (1643, 215), (1665, 374), (1665, 385), (1665, 479), (1665, 543), (1665, 639), (1687, 25), (1687, 134), (1709, 93), (1709, 262), (1709, 422), (1709, 450), (1709, 515), (1731, 25), (1731, 99), (1731, 254), (1731, 472), (1753, 171), (1753, 364), (1753, 438), (1753, 525), (1753, 618), (1775, 121), (1797, 127), (1797, 284), (1797, 336), (1797, 407), (1797, 557), (1819, 338), (1819, 377), (1819, 515), (1819, 592), (1819, 620), (1841, 240), (1841, 310), (1841, 480), (1841, 551), (1841, 586), (1841, 686), (1863, 117), (1863, 220), (1863, 286), (1863, 349), (1863, 498)]\n",
      "\n"
     ]
    }
   ],
   "source": [
    "with Image.open(text_img_path) as text_img, Image.open(letters_paths[0]) as a_img, Image.open(letters_paths[1]) as s_img, \\\n",
    "        Image.open(letters_paths[2]) as m_img, Image.open(letters_paths[3]) as o_img, Image.open(pattern_path) as pattern_img:\n",
    "\n",
    "    find_letter(\"a\",text_img, a_img)\n",
    "    find_letter(\"s\",text_img, s_img)\n",
    "\n",
    "    find_letter(\"m\",text_img, m_img)\n",
    "    find_letter(\"o\",text_img, o_img)"
   ]
  },
  {
   "cell_type": "markdown",
   "metadata": {},
   "source": [
    "## Zadanie 5"
   ]
  },
  {
   "cell_type": "code",
   "execution_count": 35,
   "metadata": {},
   "outputs": [],
   "source": [
    "def find_pattern(image_path, pattern_path):\n",
    "    img = image_to_matrix(image_path)\n",
    "    pattern = image_to_matrix(pattern_path)\n",
    "    print(\"Pattern appeared:\", search_2d(img, pattern))"
   ]
  },
  {
   "cell_type": "code",
   "execution_count": 36,
   "metadata": {},
   "outputs": [
    {
     "name": "stdout",
     "output_type": "stream",
     "text": [
      "Pattern appeared: [(391, 183), (413, 427), (457, 241), (501, 141), (545, 247)]\n"
     ]
    }
   ],
   "source": [
    "with Image.open(text_img_path) as text_img, Image.open(letters_paths[0]) as a_img, Image.open(letters_paths[1]) as s_img, \\\n",
    "        Image.open(letters_paths[2]) as m_img, Image.open(letters_paths[3]) as o_img, Image.open(pattern_path) as pattern_img:\n",
    "    find_pattern(text_img, pattern_img)"
   ]
  },
  {
   "cell_type": "markdown",
   "metadata": {},
   "source": [
    "## Zadanie 6"
   ]
  },
  {
   "cell_type": "code",
   "execution_count": 37,
   "metadata": {},
   "outputs": [],
   "source": [
    "def measure_search_time(lines, text, img, text_img):\n",
    "    print(\"Text finding\")\n",
    "    x, (prep_t , find_t) = search_2d(lines, text, return_time=True)\n",
    "    print(f\"Building automata took: {prep_t} s\\nFinding took: {find_t} s\")\n",
    "    img = image_to_matrix(img)\n",
    "    text_img = image_to_matrix(text_img)\n",
    "    print(\"Image finding\")\n",
    "    x, (prep_t , find_t) = search_2d(img, text_img, return_time=True)\n",
    "    print(f\"Building automata took: {prep_t} s \\nFinding took: {find_t} s\")"
   ]
  },
  {
   "cell_type": "code",
   "execution_count": 38,
   "metadata": {},
   "outputs": [
    {
     "name": "stdout",
     "output_type": "stream",
     "text": [
      "=== Small text ===\n",
      "Text finding\n",
      "Building automata took: 0.0 s\n",
      "Finding took: 0.010270833969116211 s\n",
      "Image finding\n",
      "Building automata took: 0.03339266777038574 s \n",
      "Finding took: 3.43282413482666 s\n",
      "\n",
      "=== Medium text ===\n",
      "Text finding\n",
      "Building automata took: 0.0 s\n",
      "Finding took: 0.011501312255859375 s\n",
      "Image finding\n",
      "Building automata took: 0.03166627883911133 s \n",
      "Finding took: 5.1952126026153564 s\n",
      "\n",
      "=== Big text ===\n",
      "Text finding\n",
      "Building automata took: 0.0010478496551513672 s\n",
      "Finding took: 0.011143684387207031 s\n",
      "Image finding\n",
      "Building automata took: 0.13703489303588867 s \n",
      "Finding took: 4.288925886154175 s\n",
      "\n",
      "=== Large text ===\n",
      "Text finding\n",
      "Building automata took: 0.011591196060180664 s\n",
      "Finding took: 0.02822113037109375 s\n",
      "Image finding\n",
      "Building automata took: 0.948235273361206 s \n",
      "Finding took: 2.9291017055511475 s\n"
     ]
    }
   ],
   "source": [
    "small_text = \"a\"\n",
    "medium_text = \"pattern\"\n",
    "big_text =[\"To the contarary, English contains\",\n",
    "              \"t h a n 700,000 words. T h e rep\",\n",
    "              \"problem a bit more challenging.\"]\n",
    "big_img_path = \"assets/big.png\"\n",
    "large_img_path = \"assets/large.png\"\n",
    "large_text = [\"T h e search of words or p a t t e r n s in static texts is quite a different question\",\n",
    "             \"t h a n the previous pattern-matching mechanism. Dictionaries, for example,\",\n",
    "             \"are organized in order to speed u p the access to entries. Another example\",\n",
    "             \"of the same question is given by indexes. Technical books often contain a n\",\n",
    "             \"index of chosen terms t h a t gives pointers to p a r t s of the text related to words\",\n",
    "             \"in the index. T h e algorithms involved in the creation of an index form a\",\n",
    "             \"specific group. T h e use of dictionaries or lexicons is often related t o n a t u r a l\",\n",
    "             \"language processing. Lexicons of programming languages are small, and their\",\n",
    "             \"representation is not a difficult problem during the development of a compiler.\"]\n",
    "\n",
    "with Image.open(text_img_path) as text_img, Image.open(letters_paths[0]) as a_img, \\\n",
    "    Image.open(big_img_path) as big_img, Image.open(pattern_path) as pattern_img, \\\n",
    "    Image.open(large_img_path) as large_img:\n",
    "        print(\"=== Small text ===\")\n",
    "        measure_search_time(lines, small_text, text_img, a_img)\n",
    "        print(\"\\n=== Medium text ===\")\n",
    "        measure_search_time(lines, medium_text, text_img, pattern_img)\n",
    "        print(\"\\n=== Big text ===\")\n",
    "        measure_search_time(lines, big_text, text_img, big_img)\n",
    "        print(\"\\n=== Large text ===\")\n",
    "        measure_search_time(lines, large_text, text_img, large_img)"
   ]
  },
  {
   "cell_type": "markdown",
   "metadata": {},
   "source": [
    "## Zadanie 7"
   ]
  },
  {
   "cell_type": "code",
   "execution_count": 40,
   "metadata": {},
   "outputs": [],
   "source": [
    "def divide_and_measure(lines, pattern):\n",
    "    for div in [1, 2, 4, 8]:\n",
    "        parts = []\n",
    "        curr = 0\n",
    "        for i in range(div):\n",
    "            if i < div - 1:\n",
    "                parts.append(lines[curr:curr+(len(lines) // div)])\n",
    "            else:\n",
    "                parts.append(lines[curr:curr+len(lines)])\n",
    "            curr += len(lines) // div\n",
    "\n",
    "        t = 0\n",
    "        for p in parts:\n",
    "            x, (pre_t, find_t) = search_2d(p, pattern, return_time=True)\n",
    "            t += pre_t + find_t\n",
    "        print(f\"{div} parts took {t} s\")"
   ]
  },
  {
   "cell_type": "code",
   "execution_count": 41,
   "metadata": {},
   "outputs": [
    {
     "name": "stdout",
     "output_type": "stream",
     "text": [
      "1 parts took 0.007799386978149414 s\n",
      "2 parts took 0.02195119857788086 s\n",
      "4 parts took 0.012528657913208008 s\n",
      "8 parts took 0.01105499267578125 s\n"
     ]
    }
   ],
   "source": [
    "\n",
    "with Image.open(text_img_path) as text_img, Image.open(letters_paths[0]) as a_img, \\\n",
    "        Image.open(big_img_path) as big_img, Image.open(pattern_path) as pattern_img:\n",
    "    divide_and_measure(lines,big_text)"
   ]
  },
  {
   "cell_type": "code",
   "execution_count": null,
   "metadata": {},
   "outputs": [],
   "source": []
  }
 ],
 "metadata": {
  "kernelspec": {
   "display_name": "Python 3",
   "language": "python",
   "name": "python3"
  },
  "language_info": {
   "codemirror_mode": {
    "name": "ipython",
    "version": 3
   },
   "file_extension": ".py",
   "mimetype": "text/x-python",
   "name": "python",
   "nbconvert_exporter": "python",
   "pygments_lexer": "ipython3",
   "version": "3.8.3"
  }
 },
 "nbformat": 4,
 "nbformat_minor": 4
}